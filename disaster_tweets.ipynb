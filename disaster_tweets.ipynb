{
 "cells": [
  {
   "cell_type": "markdown",
   "id": "02e8c45e",
   "metadata": {},
   "source": [
    "# Natural Language Processing with Disaster Tweets\n",
    "## Predict which Tweets are about real disasters and which ones are not\n",
    "\n",
    "#### by Abhiram Rishi Prattipati"
   ]
  },
  {
   "cell_type": "code",
   "execution_count": 1,
   "id": "31e69759",
   "metadata": {},
   "outputs": [],
   "source": [
    "# Necessary libraries and tools\n",
    "\n",
    "import re\n",
    "import numpy as np # linear algebra\n",
    "import pandas as pd # data processing, CSV file I/O (e.g. pd.read_csv)\n",
    "from nltk.tokenize import TweetTokenizer\n",
    "from nltk.stem import WordNetLemmatizer\n",
    "from nltk.corpus import stopwords\n",
    "from nltk.stem import PorterStemmer\n",
    "from sklearn.feature_extraction.text import CountVectorizer\n",
    "from sklearn.feature_extraction.text import TfidfVectorizer\n",
    "from sklearn.model_selection import train_test_split\n",
    "from sklearn.ensemble import RandomForestClassifier\n",
    "from sklearn.model_selection import cross_val_score\n",
    "from sklearn.metrics import confusion_matrix\n",
    "import xgboost\n",
    "from sklearn.model_selection import RandomizedSearchCV"
   ]
  },
  {
   "cell_type": "code",
   "execution_count": 2,
   "id": "78f8b0c8",
   "metadata": {},
   "outputs": [],
   "source": [
    "train_dataframe = pd.read_csv(\"nlp_data/train.csv\")"
   ]
  },
  {
   "cell_type": "code",
   "execution_count": 3,
   "id": "0af46c33",
   "metadata": {},
   "outputs": [
    {
     "data": {
      "text/html": [
       "<div>\n",
       "<style scoped>\n",
       "    .dataframe tbody tr th:only-of-type {\n",
       "        vertical-align: middle;\n",
       "    }\n",
       "\n",
       "    .dataframe tbody tr th {\n",
       "        vertical-align: top;\n",
       "    }\n",
       "\n",
       "    .dataframe thead th {\n",
       "        text-align: right;\n",
       "    }\n",
       "</style>\n",
       "<table border=\"1\" class=\"dataframe\">\n",
       "  <thead>\n",
       "    <tr style=\"text-align: right;\">\n",
       "      <th></th>\n",
       "      <th>id</th>\n",
       "      <th>keyword</th>\n",
       "      <th>location</th>\n",
       "      <th>text</th>\n",
       "      <th>target</th>\n",
       "    </tr>\n",
       "  </thead>\n",
       "  <tbody>\n",
       "    <tr>\n",
       "      <th>0</th>\n",
       "      <td>1</td>\n",
       "      <td>NaN</td>\n",
       "      <td>NaN</td>\n",
       "      <td>Our Deeds are the Reason of this #earthquake M...</td>\n",
       "      <td>1</td>\n",
       "    </tr>\n",
       "    <tr>\n",
       "      <th>1</th>\n",
       "      <td>4</td>\n",
       "      <td>NaN</td>\n",
       "      <td>NaN</td>\n",
       "      <td>Forest fire near La Ronge Sask. Canada</td>\n",
       "      <td>1</td>\n",
       "    </tr>\n",
       "    <tr>\n",
       "      <th>2</th>\n",
       "      <td>5</td>\n",
       "      <td>NaN</td>\n",
       "      <td>NaN</td>\n",
       "      <td>All residents asked to 'shelter in place' are ...</td>\n",
       "      <td>1</td>\n",
       "    </tr>\n",
       "    <tr>\n",
       "      <th>3</th>\n",
       "      <td>6</td>\n",
       "      <td>NaN</td>\n",
       "      <td>NaN</td>\n",
       "      <td>13,000 people receive #wildfires evacuation or...</td>\n",
       "      <td>1</td>\n",
       "    </tr>\n",
       "    <tr>\n",
       "      <th>4</th>\n",
       "      <td>7</td>\n",
       "      <td>NaN</td>\n",
       "      <td>NaN</td>\n",
       "      <td>Just got sent this photo from Ruby #Alaska as ...</td>\n",
       "      <td>1</td>\n",
       "    </tr>\n",
       "  </tbody>\n",
       "</table>\n",
       "</div>"
      ],
      "text/plain": [
       "   id keyword location                                               text  \\\n",
       "0   1     NaN      NaN  Our Deeds are the Reason of this #earthquake M...   \n",
       "1   4     NaN      NaN             Forest fire near La Ronge Sask. Canada   \n",
       "2   5     NaN      NaN  All residents asked to 'shelter in place' are ...   \n",
       "3   6     NaN      NaN  13,000 people receive #wildfires evacuation or...   \n",
       "4   7     NaN      NaN  Just got sent this photo from Ruby #Alaska as ...   \n",
       "\n",
       "   target  \n",
       "0       1  \n",
       "1       1  \n",
       "2       1  \n",
       "3       1  \n",
       "4       1  "
      ]
     },
     "execution_count": 3,
     "metadata": {},
     "output_type": "execute_result"
    }
   ],
   "source": [
    "train_dataframe.head()"
   ]
  },
  {
   "cell_type": "code",
   "execution_count": 4,
   "id": "42d98a17",
   "metadata": {},
   "outputs": [],
   "source": [
    "# Tokenizes the string, removes strip handles, and replaces repeated characters\n",
    "tweettoken = TweetTokenizer(strip_handles=True, reduce_len=True)\n",
    "lemmatizer=WordNetLemmatizer()\n",
    "stemmer=PorterStemmer()"
   ]
  },
  {
   "cell_type": "code",
   "execution_count": 5,
   "id": "131d42f6",
   "metadata": {},
   "outputs": [],
   "source": [
    "collect=[]\n",
    "def preprocess(t):\n",
    "    # substitutes characters that are not alphaphetic to space\n",
    "    tee=re.sub('[^a-zA-Z]',\" \",t)\n",
    "    # converts to lowercase\n",
    "    tee=tee.lower()\n",
    "    #tokenizes the tweet\n",
    "    res=tweettoken.tokenize(tee)\n",
    "    #removes stopwords\n",
    "    for i in res:\n",
    "        if i in stopwords.words('english'):\n",
    "            res.remove(i)\n",
    "    rest=[]\n",
    "    # lemmatizes each word in res\n",
    "    for k in res:\n",
    "        rest.append(lemmatizer.lemmatize(k))\n",
    "    # converts the list into string and spaces each element in list\n",
    "    ret=\" \".join(rest)\n",
    "    # adds ret to collect\n",
    "    collect.append(ret)"
   ]
  },
  {
   "cell_type": "code",
   "execution_count": 7,
   "id": "95e4304d",
   "metadata": {},
   "outputs": [],
   "source": [
    "# preprocesses every tweet in the dataframe\n",
    "for j in range(len(train_dataframe.index)):\n",
    "    preprocess(train_dataframe[\"text\"].iloc[j])"
   ]
  },
  {
   "cell_type": "code",
   "execution_count": 8,
   "id": "810fc5e8",
   "metadata": {},
   "outputs": [],
   "source": [
    "# converts a list of documents into a matrix array of total counts based on given vocabulary\n",
    "def bow(ll):\n",
    "    cv=CountVectorizer(max_features=200)\n",
    "    x=cv.fit_transform(ll).toarray()\n",
    "    return x\n",
    "    "
   ]
  },
  {
   "cell_type": "code",
   "execution_count": null,
   "id": "866c634f",
   "metadata": {},
   "outputs": [],
   "source": [
    "y=bow(collect)"
   ]
  }
 ],
 "metadata": {
  "kernelspec": {
   "display_name": "Python 3 (ipykernel)",
   "language": "python",
   "name": "python3"
  },
  "language_info": {
   "codemirror_mode": {
    "name": "ipython",
    "version": 3
   },
   "file_extension": ".py",
   "mimetype": "text/x-python",
   "name": "python",
   "nbconvert_exporter": "python",
   "pygments_lexer": "ipython3",
   "version": "3.9.16"
  }
 },
 "nbformat": 4,
 "nbformat_minor": 5
}
